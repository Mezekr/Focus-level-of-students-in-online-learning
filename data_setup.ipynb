{
  "nbformat": 4,
  "nbformat_minor": 0,
  "metadata": {
    "colab": {
      "name": "data_setup.ipynb",
      "provenance": [],
      "collapsed_sections": [],
      "mount_file_id": "1yyZyzw-BDD3LK18_GM7SEz7eow5gAeuQ",
      "authorship_tag": "ABX9TyOyyJJNNL+82sjeSuEKOta6",
      "include_colab_link": true
    },
    "kernelspec": {
      "name": "python3",
      "display_name": "Python 3"
    },
    "language_info": {
      "name": "python"
    }
  },
  "cells": [
    {
      "cell_type": "markdown",
      "metadata": {
        "id": "view-in-github",
        "colab_type": "text"
      },
      "source": [
        "<a href=\"https://colab.research.google.com/github/Mezekr/Focus-level-of-students-in-online-learning/blob/main/data_setup.ipynb\" target=\"_parent\"><img src=\"https://colab.research.google.com/assets/colab-badge.svg\" alt=\"Open In Colab\"/></a>"
      ]
    },
    {
      "cell_type": "markdown",
      "source": [
        "# Mount Google drive to save the dataset"
      ],
      "metadata": {
        "id": "lnvNPOjjUtTO"
      }
    },
    {
      "cell_type": "code",
      "source": [
        "from google.colab import drive\n",
        "drive.mount('/content/drive/')"
      ],
      "metadata": {
        "id": "705LCRRjU2LF"
      },
      "execution_count": null,
      "outputs": []
    },
    {
      "cell_type": "markdown",
      "source": [
        "# create Project Folder in drive"
      ],
      "metadata": {
        "id": "pCZBto2lVVmh"
      }
    },
    {
      "cell_type": "code",
      "source": [
        "import os\n",
        "os.chdir(r\"/content/drive/MyDrive/\")\n",
        "if os.path.exists(\"ProjSem_KI\"):\n",
        "  print(\"Dir already exit.change in to it\") \n",
        "  %cd /content/drive/My Drive/ProjSem_KI\n",
        "else:\n",
        "  os.mkdir(\"ProjSem_KI\")\n",
        "  %cd /content/drive/My Drive/ProjSem_KI\n",
        "  "
      ],
      "metadata": {
        "id": "Kq6cPlEFVfyi"
      },
      "execution_count": null,
      "outputs": []
    },
    {
      "cell_type": "markdown",
      "source": [
        "# Directory to save the results of the model"
      ],
      "metadata": {
        "id": "F12CZ_E3pFdZ"
      }
    },
    {
      "cell_type": "code",
      "source": [
        "# Directory to save the results of the model\n",
        "%cd /content/drive/My Drive/ProjSem_KI\n",
        "!mkdir Models"
      ],
      "metadata": {
        "id": "bSod9euTpEAR"
      },
      "execution_count": null,
      "outputs": []
    },
    {
      "cell_type": "markdown",
      "source": [
        "# Download the original dataset "
      ],
      "metadata": {
        "id": "3OoUq_pCVuDL"
      }
    },
    {
      "cell_type": "code",
      "source": [
        "!wget --no-check-certificate 'https://docs.google.com/uc?export=download&id=1tG1to0NFBfxWNwwef-9xEoJC6Y-B2LbT' -O original_dataset.zip "
      ],
      "metadata": {
        "colab": {
          "base_uri": "https://localhost:8080/"
        },
        "id": "CyLZxWkNVyfo",
        "outputId": "05ba5197-706f-4ae2-b1d6-766a03450ae7"
      },
      "execution_count": null,
      "outputs": [
        {
          "output_type": "stream",
          "name": "stdout",
          "text": [
            "--2021-12-09 13:25:09--  https://docs.google.com/uc?export=download&id=1tG1to0NFBfxWNwwef-9xEoJC6Y-B2LbT\n",
            "Resolving docs.google.com (docs.google.com)... 108.177.96.102, 108.177.96.100, 108.177.96.101, ...\n",
            "Connecting to docs.google.com (docs.google.com)|108.177.96.102|:443... connected.\n",
            "HTTP request sent, awaiting response... 302 Moved Temporarily\n",
            "Location: https://doc-0k-4c-docs.googleusercontent.com/docs/securesc/ha0ro937gcuc7l7deffksulhg5h7mbp1/86p10ikenjh9vt6p8ab7n9vemi49240q/1639056300000/06864649940199097487/*/1tG1to0NFBfxWNwwef-9xEoJC6Y-B2LbT?e=download [following]\n",
            "Warning: wildcards not supported in HTTP.\n",
            "--2021-12-09 13:25:10--  https://doc-0k-4c-docs.googleusercontent.com/docs/securesc/ha0ro937gcuc7l7deffksulhg5h7mbp1/86p10ikenjh9vt6p8ab7n9vemi49240q/1639056300000/06864649940199097487/*/1tG1to0NFBfxWNwwef-9xEoJC6Y-B2LbT?e=download\n",
            "Resolving doc-0k-4c-docs.googleusercontent.com (doc-0k-4c-docs.googleusercontent.com)... 142.251.31.132, 2a00:1450:4013:c1a::84\n",
            "Connecting to doc-0k-4c-docs.googleusercontent.com (doc-0k-4c-docs.googleusercontent.com)|142.251.31.132|:443... connected.\n",
            "HTTP request sent, awaiting response... 200 OK\n",
            "Length: 5697017 (5.4M) [application/x-zip-compressed]\n",
            "Saving to: ‘original_dataset.zip’\n",
            "\n",
            "original_dataset.zi 100%[===================>]   5.43M  32.8MB/s    in 0.2s    \n",
            "\n",
            "2021-12-09 13:25:11 (32.8 MB/s) - ‘original_dataset.zip’ saved [5697017/5697017]\n",
            "\n"
          ]
        }
      ]
    },
    {
      "cell_type": "markdown",
      "source": [
        "# let's see the content of the folder"
      ],
      "metadata": {
        "id": "ZcaDAAqPX4l0"
      }
    },
    {
      "cell_type": "code",
      "source": [
        "!ls"
      ],
      "metadata": {
        "id": "5paspxxfYAm1"
      },
      "execution_count": null,
      "outputs": []
    },
    {
      "cell_type": "markdown",
      "source": [
        "# unpack the dataset zip file"
      ],
      "metadata": {
        "id": "3MniVn7OYvN3"
      }
    },
    {
      "cell_type": "code",
      "source": [
        "!unzip original_dataset.zip "
      ],
      "metadata": {
        "colab": {
          "base_uri": "https://localhost:8080/"
        },
        "id": "VzXsoZfuYEhw",
        "outputId": "91d3388d-7e83-4f76-dfd0-8406dbb6aaf9"
      },
      "execution_count": null,
      "outputs": [
        {
          "output_type": "stream",
          "name": "stdout",
          "text": [
            "Archive:  original_dataset.zip\n",
            "   creating: original_dataset/bored/\n",
            "  inflating: original_dataset/bored/images (2).jpg  \n",
            "  inflating: original_dataset/bored/images (3).jpg  \n",
            "  inflating: original_dataset/bored/images 1.png  \n",
            "  inflating: original_dataset/bored/images 10.jpg  \n",
            "  inflating: original_dataset/bored/images 100.jpg  \n",
            "  inflating: original_dataset/bored/images 101.jpg  \n",
            "  inflating: original_dataset/bored/images 102.jpg  \n",
            "  inflating: original_dataset/bored/images 103.jpg  \n",
            "  inflating: original_dataset/bored/images 104.jpg  \n",
            "  inflating: original_dataset/bored/images 105.jpg  \n",
            "  inflating: original_dataset/bored/images 106.jpg  \n",
            "  inflating: original_dataset/bored/images 107.jpg  \n",
            "  inflating: original_dataset/bored/images 108.jpg  \n",
            "  inflating: original_dataset/bored/images 109.jpg  \n",
            "  inflating: original_dataset/bored/images 11.jpg  \n",
            "  inflating: original_dataset/bored/images 110.jpg  \n",
            "  inflating: original_dataset/bored/images 111.jpg  \n",
            "  inflating: original_dataset/bored/images 112.jpg  \n",
            "  inflating: original_dataset/bored/images 113.jpg  \n",
            "  inflating: original_dataset/bored/images 114.jpg  \n",
            "  inflating: original_dataset/bored/images 115.jpg  \n",
            "  inflating: original_dataset/bored/images 116.jpg  \n",
            "  inflating: original_dataset/bored/images 117.jpg  \n",
            "  inflating: original_dataset/bored/images 118.jpg  \n",
            "  inflating: original_dataset/bored/images 119.jpg  \n",
            "  inflating: original_dataset/bored/images 12.jpg  \n",
            "  inflating: original_dataset/bored/images 120.jpg  \n",
            "  inflating: original_dataset/bored/images 127.jpg  \n",
            "  inflating: original_dataset/bored/images 128.jpg  \n",
            "  inflating: original_dataset/bored/images 129.jpg  \n",
            "  inflating: original_dataset/bored/images 13.jpg  \n",
            "  inflating: original_dataset/bored/images 130.jpg  \n",
            "  inflating: original_dataset/bored/images 131.jpg  \n",
            "  inflating: original_dataset/bored/images 132.jpg  \n",
            "  inflating: original_dataset/bored/images 133.jpg  \n",
            "  inflating: original_dataset/bored/images 134.jpg  \n",
            "  inflating: original_dataset/bored/images 135.jpg  \n",
            "  inflating: original_dataset/bored/images 136.jpg  \n",
            "  inflating: original_dataset/bored/images 137.jpg  \n",
            "  inflating: original_dataset/bored/images 138.jpg  \n",
            "  inflating: original_dataset/bored/images 139.jpg  \n",
            "  inflating: original_dataset/bored/images 140.jpg  \n",
            "  inflating: original_dataset/bored/images 16.jpg  \n",
            "  inflating: original_dataset/bored/images 17.jpg  \n",
            "  inflating: original_dataset/bored/images 18.jpg  \n",
            "  inflating: original_dataset/bored/images 19.jpg  \n",
            "  inflating: original_dataset/bored/images 2.jpg  \n",
            "  inflating: original_dataset/bored/images 20.jpg  \n",
            "  inflating: original_dataset/bored/images 21.jpg  \n",
            "  inflating: original_dataset/bored/images 22.jpg  \n",
            "  inflating: original_dataset/bored/images 23.jpg  \n",
            "  inflating: original_dataset/bored/images 24.jpg  \n",
            "  inflating: original_dataset/bored/images 25.jpg  \n",
            "  inflating: original_dataset/bored/images 26.jpg  \n",
            "  inflating: original_dataset/bored/images 27.jpg  \n",
            "  inflating: original_dataset/bored/images 28.jpg  \n",
            "  inflating: original_dataset/bored/images 29.jpg  \n",
            "  inflating: original_dataset/bored/images 3.jpg  \n",
            "  inflating: original_dataset/bored/images 30.jpg  \n",
            "  inflating: original_dataset/bored/images 31.jpg  \n",
            "  inflating: original_dataset/bored/images 32.jpg  \n",
            "  inflating: original_dataset/bored/images 33.jpg  \n",
            "  inflating: original_dataset/bored/images 34.jpg  \n",
            "  inflating: original_dataset/bored/images 35.jpg  \n",
            "  inflating: original_dataset/bored/images 36.jpg  \n",
            "  inflating: original_dataset/bored/images 37.jpg  \n",
            "  inflating: original_dataset/bored/images 38.jpg  \n",
            "  inflating: original_dataset/bored/images 39.jpg  \n",
            "  inflating: original_dataset/bored/images 4.jpg  \n",
            "  inflating: original_dataset/bored/images 40.jpg  \n",
            "  inflating: original_dataset/bored/images 41.jpg  \n",
            "  inflating: original_dataset/bored/images 42.jpg  \n",
            "  inflating: original_dataset/bored/images 43.jpg  \n",
            "  inflating: original_dataset/bored/images 44.jpg  \n",
            "  inflating: original_dataset/bored/images 45.jpg  \n",
            "  inflating: original_dataset/bored/images 46.jpg  \n",
            "  inflating: original_dataset/bored/images 47.jpg  \n",
            "  inflating: original_dataset/bored/images 48.jpg  \n",
            "  inflating: original_dataset/bored/images 49.jpg  \n",
            "  inflating: original_dataset/bored/images 5.jpg  \n",
            "  inflating: original_dataset/bored/images 50.jpg  \n",
            "  inflating: original_dataset/bored/images 51.jpg  \n",
            "  inflating: original_dataset/bored/images 52.jpg  \n",
            "  inflating: original_dataset/bored/images 53.jpg  \n",
            "  inflating: original_dataset/bored/images 54.jpg  \n",
            "  inflating: original_dataset/bored/images 55.jpg  \n",
            "  inflating: original_dataset/bored/images 56.jpg  \n",
            "  inflating: original_dataset/bored/images 57.jpg  \n",
            "  inflating: original_dataset/bored/images 58.jpg  \n",
            "  inflating: original_dataset/bored/images 59.jpg  \n",
            "  inflating: original_dataset/bored/images 60.jpg  \n",
            "  inflating: original_dataset/bored/images 61.jpg  \n",
            "  inflating: original_dataset/bored/images 62.jpg  \n",
            "  inflating: original_dataset/bored/images 63.jpg  \n",
            "  inflating: original_dataset/bored/images 64.jpg  \n",
            "  inflating: original_dataset/bored/images 65.jpg  \n",
            "  inflating: original_dataset/bored/images 66.jpg  \n",
            "  inflating: original_dataset/bored/images 67.jpg  \n",
            "  inflating: original_dataset/bored/images 68.jpg  \n",
            "  inflating: original_dataset/bored/images 69.jpg  \n",
            "  inflating: original_dataset/bored/images 70.jpg  \n",
            "  inflating: original_dataset/bored/images 71.jpg  \n",
            "  inflating: original_dataset/bored/images 72.jpg  \n",
            "  inflating: original_dataset/bored/images 73.jpg  \n",
            "  inflating: original_dataset/bored/images 74.jpg  \n",
            "  inflating: original_dataset/bored/images 75.jpg  \n",
            "  inflating: original_dataset/bored/images 76.jpg  \n",
            "  inflating: original_dataset/bored/images 77.jpg  \n",
            "  inflating: original_dataset/bored/images 78.jpg  \n",
            "  inflating: original_dataset/bored/images 79.jpg  \n",
            "  inflating: original_dataset/bored/images 80.jpg  \n",
            "  inflating: original_dataset/bored/images 81.jpg  \n",
            "  inflating: original_dataset/bored/images 82.jpg  \n",
            "  inflating: original_dataset/bored/images 83.jpg  \n",
            "  inflating: original_dataset/bored/images 84.jpg  \n",
            "  inflating: original_dataset/bored/images 85.jpg  \n",
            "  inflating: original_dataset/bored/images 86.jpg  \n",
            "  inflating: original_dataset/bored/images 87.jpg  \n",
            "  inflating: original_dataset/bored/images 88.jpg  \n",
            "  inflating: original_dataset/bored/images 89.jpg  \n",
            "  inflating: original_dataset/bored/images 90.jpg  \n",
            "  inflating: original_dataset/bored/images 91.jpg  \n",
            "  inflating: original_dataset/bored/images 92.jpg  \n",
            "  inflating: original_dataset/bored/images 93.jpg  \n",
            "  inflating: original_dataset/bored/images 94.jpg  \n",
            "  inflating: original_dataset/bored/images 95.jpg  \n",
            "  inflating: original_dataset/bored/images 96.jpg  \n",
            "  inflating: original_dataset/bored/images 97.jpg  \n",
            "  inflating: original_dataset/bored/images 98.jpg  \n",
            "  inflating: original_dataset/bored/images 99.jpg  \n",
            "   creating: original_dataset/engaged/\n",
            "  inflating: original_dataset/engaged/images 1.jpg  \n",
            "  inflating: original_dataset/engaged/images 10.jpg  \n",
            "  inflating: original_dataset/engaged/images 100.jpg  \n",
            "  inflating: original_dataset/engaged/images 101.jpg  \n",
            "  inflating: original_dataset/engaged/images 102.jpg  \n",
            "  inflating: original_dataset/engaged/images 103.jpg  \n",
            "  inflating: original_dataset/engaged/images 104.jpg  \n",
            "  inflating: original_dataset/engaged/images 105.jpg  \n",
            "  inflating: original_dataset/engaged/images 106.jpg  \n",
            "  inflating: original_dataset/engaged/images 109.jpg  \n",
            "  inflating: original_dataset/engaged/images 110.jpg  \n",
            "  inflating: original_dataset/engaged/images 111.jpg  \n",
            "  inflating: original_dataset/engaged/images 112.jpg  \n",
            "  inflating: original_dataset/engaged/images 113.jpg  \n",
            "  inflating: original_dataset/engaged/images 114.jpg  \n",
            "  inflating: original_dataset/engaged/images 115.jpg  \n",
            "  inflating: original_dataset/engaged/images 116.jpg  \n",
            "  inflating: original_dataset/engaged/images 117.jpg  \n",
            "  inflating: original_dataset/engaged/images 118.jpg  \n",
            "  inflating: original_dataset/engaged/images 119.jpg  \n",
            "  inflating: original_dataset/engaged/images 120.jpg  \n",
            "  inflating: original_dataset/engaged/images 121.jpg  \n",
            "  inflating: original_dataset/engaged/images 122.jpg  \n",
            "  inflating: original_dataset/engaged/images 123.jpg  \n",
            "  inflating: original_dataset/engaged/images 124.jpg  \n",
            "  inflating: original_dataset/engaged/images 125.jpg  \n",
            "  inflating: original_dataset/engaged/images 126.jpg  \n",
            "  inflating: original_dataset/engaged/images 127.jpg  \n",
            "  inflating: original_dataset/engaged/images 128.jpg  \n",
            "  inflating: original_dataset/engaged/images 129.jpg  \n",
            "  inflating: original_dataset/engaged/images 130.jpg  \n",
            "  inflating: original_dataset/engaged/images 131.jpg  \n",
            "  inflating: original_dataset/engaged/images 132.jpg  \n",
            "  inflating: original_dataset/engaged/images 133.jpg  \n",
            "  inflating: original_dataset/engaged/images 134.jpg  \n",
            "  inflating: original_dataset/engaged/images 135.jpg  \n",
            "  inflating: original_dataset/engaged/images 136.jpg  \n",
            "  inflating: original_dataset/engaged/images 137.jpg  \n",
            "  inflating: original_dataset/engaged/images 14.jpg  \n",
            "  inflating: original_dataset/engaged/images 15.jpg  \n",
            "  inflating: original_dataset/engaged/images 16.jpg  \n",
            "  inflating: original_dataset/engaged/images 17.jpg  \n",
            "  inflating: original_dataset/engaged/images 18.jpg  \n",
            "  inflating: original_dataset/engaged/images 19.jpg  \n",
            "  inflating: original_dataset/engaged/images 2.jpg  \n",
            "  inflating: original_dataset/engaged/images 20.jpg  \n",
            "  inflating: original_dataset/engaged/images 21.jpg  \n",
            "  inflating: original_dataset/engaged/images 22.jpg  \n",
            "  inflating: original_dataset/engaged/images 23.jpg  \n",
            "  inflating: original_dataset/engaged/images 24.jpg  \n",
            "  inflating: original_dataset/engaged/images 25.jpg  \n",
            "  inflating: original_dataset/engaged/images 26.jpg  \n",
            "  inflating: original_dataset/engaged/images 27.jpg  \n",
            "  inflating: original_dataset/engaged/images 28.jpg  \n",
            "  inflating: original_dataset/engaged/images 29.jpg  \n",
            "  inflating: original_dataset/engaged/images 30.jpg  \n",
            "  inflating: original_dataset/engaged/images 31.jpg  \n",
            "  inflating: original_dataset/engaged/images 32.jpg  \n",
            "  inflating: original_dataset/engaged/images 33.jpg  \n",
            "  inflating: original_dataset/engaged/images 34.jpg  \n",
            "  inflating: original_dataset/engaged/images 35.jpg  \n",
            "  inflating: original_dataset/engaged/images 36.jpg  \n",
            "  inflating: original_dataset/engaged/images 37.jpg  \n",
            "  inflating: original_dataset/engaged/images 38.jpg  \n",
            "  inflating: original_dataset/engaged/images 39.jpg  \n",
            "  inflating: original_dataset/engaged/images 4.jpg  \n",
            "  inflating: original_dataset/engaged/images 40.jpg  \n",
            "  inflating: original_dataset/engaged/images 41.jpg  \n",
            "  inflating: original_dataset/engaged/images 42.jpg  \n",
            "  inflating: original_dataset/engaged/images 43.jpg  \n",
            "  inflating: original_dataset/engaged/images 44.jpg  \n",
            "  inflating: original_dataset/engaged/images 45.jpg  \n",
            "  inflating: original_dataset/engaged/images 46.jpg  \n",
            "  inflating: original_dataset/engaged/images 47.jpg  \n",
            "  inflating: original_dataset/engaged/images 48.jpg  \n",
            "  inflating: original_dataset/engaged/images 49.jpg  \n",
            "  inflating: original_dataset/engaged/images 5.jpg  \n",
            "  inflating: original_dataset/engaged/images 50.jpg  \n",
            "  inflating: original_dataset/engaged/images 51.jpg  \n",
            "  inflating: original_dataset/engaged/images 52.jpg  \n",
            "  inflating: original_dataset/engaged/images 53.jpg  \n",
            "  inflating: original_dataset/engaged/images 54.jpg  \n",
            "  inflating: original_dataset/engaged/images 55.jpg  \n",
            "  inflating: original_dataset/engaged/images 56.jpg  \n",
            "  inflating: original_dataset/engaged/images 57 (2).jpg  \n",
            "  inflating: original_dataset/engaged/images 57.jpg  \n",
            "  inflating: original_dataset/engaged/images 58.jpg  \n",
            "  inflating: original_dataset/engaged/images 59.jpg  \n",
            "  inflating: original_dataset/engaged/images 6.jpg  \n",
            "  inflating: original_dataset/engaged/images 60.jpg  \n",
            "  inflating: original_dataset/engaged/images 61.jpg  \n",
            "  inflating: original_dataset/engaged/images 62.jpg  \n",
            "  inflating: original_dataset/engaged/images 63.jpg  \n",
            "  inflating: original_dataset/engaged/images 64.jpg  \n",
            "  inflating: original_dataset/engaged/images 65.jpg  \n",
            "  inflating: original_dataset/engaged/images 66.jpg  \n",
            "  inflating: original_dataset/engaged/images 67.jpg  \n",
            "  inflating: original_dataset/engaged/images 68.jpg  \n",
            "  inflating: original_dataset/engaged/images 69.jpg  \n",
            "  inflating: original_dataset/engaged/images 7.jpg  \n",
            "  inflating: original_dataset/engaged/images 70.jpg  \n",
            "  inflating: original_dataset/engaged/images 71.jpg  \n",
            "  inflating: original_dataset/engaged/images 72.jpg  \n",
            "  inflating: original_dataset/engaged/images 73.jpg  \n",
            "  inflating: original_dataset/engaged/images 74.jpg  \n",
            "  inflating: original_dataset/engaged/images 75.jpg  \n",
            "  inflating: original_dataset/engaged/images 76.jpg  \n",
            "  inflating: original_dataset/engaged/images 77.jpg  \n",
            "  inflating: original_dataset/engaged/images 78.jpg  \n",
            "  inflating: original_dataset/engaged/images 79.jpg  \n",
            "  inflating: original_dataset/engaged/images 80.jpg  \n",
            "  inflating: original_dataset/engaged/images 81.jpg  \n",
            "  inflating: original_dataset/engaged/images 83.jpg  \n",
            "  inflating: original_dataset/engaged/images 84.jpg  \n",
            "  inflating: original_dataset/engaged/images 85.jpg  \n",
            "  inflating: original_dataset/engaged/images 86.jpg  \n",
            "  inflating: original_dataset/engaged/images 87.jpg  \n",
            "  inflating: original_dataset/engaged/images 88.jpg  \n",
            "  inflating: original_dataset/engaged/images 89.jpg  \n",
            "  inflating: original_dataset/engaged/images 9.jpg  \n",
            "  inflating: original_dataset/engaged/images 90.jpg  \n",
            "  inflating: original_dataset/engaged/images 91.jpg  \n",
            "  inflating: original_dataset/engaged/images 92.jpg  \n",
            "  inflating: original_dataset/engaged/images 93.jpg  \n",
            "  inflating: original_dataset/engaged/images 94.jpg  \n",
            "  inflating: original_dataset/engaged/images 95.jpg  \n",
            "  inflating: original_dataset/engaged/images 96.jpg  \n",
            "  inflating: original_dataset/engaged/images 97.jpg  \n",
            "  inflating: original_dataset/engaged/images 98.jpg  \n",
            "  inflating: original_dataset/engaged/images 99.jpg  \n",
            "   creating: original_dataset/frustrated/\n",
            "  inflating: original_dataset/frustrated/images 1.jpg  \n",
            "  inflating: original_dataset/frustrated/images 10.jpg  \n",
            "  inflating: original_dataset/frustrated/images 100.jpg  \n",
            "  inflating: original_dataset/frustrated/images 101.jpg  \n",
            "  inflating: original_dataset/frustrated/images 102.jpg  \n",
            "  inflating: original_dataset/frustrated/images 103.jpg  \n",
            "  inflating: original_dataset/frustrated/images 105.jpg  \n",
            "  inflating: original_dataset/frustrated/images 106.jpg  \n",
            "  inflating: original_dataset/frustrated/images 107.jpg  \n",
            "  inflating: original_dataset/frustrated/images 108.jpg  \n",
            "  inflating: original_dataset/frustrated/images 109.jpg  \n",
            "  inflating: original_dataset/frustrated/images 11.jpg  \n",
            "  inflating: original_dataset/frustrated/images 110.jpg  \n",
            "  inflating: original_dataset/frustrated/images 111.jpg  \n",
            "  inflating: original_dataset/frustrated/images 112.jpg  \n",
            "  inflating: original_dataset/frustrated/images 113.jpg  \n",
            "  inflating: original_dataset/frustrated/images 114.jpg  \n",
            "  inflating: original_dataset/frustrated/images 115.jpg  \n",
            "  inflating: original_dataset/frustrated/images 116.jpg  \n",
            "  inflating: original_dataset/frustrated/images 117.jpg  \n",
            "  inflating: original_dataset/frustrated/images 118.jpg  \n",
            "  inflating: original_dataset/frustrated/images 119.jpg  \n",
            "  inflating: original_dataset/frustrated/images 12.jpg  \n",
            "  inflating: original_dataset/frustrated/images 120.jpg  \n",
            "  inflating: original_dataset/frustrated/images 121.jpg  \n",
            "  inflating: original_dataset/frustrated/images 122.jpg  \n",
            "  inflating: original_dataset/frustrated/images 123.jpg  \n",
            "  inflating: original_dataset/frustrated/images 124.jpg  \n",
            "  inflating: original_dataset/frustrated/images 125.jpg  \n",
            "  inflating: original_dataset/frustrated/images 126.jpg  \n",
            "  inflating: original_dataset/frustrated/images 127.jpg  \n",
            "  inflating: original_dataset/frustrated/images 128.jpg  \n",
            "  inflating: original_dataset/frustrated/images 129.jpg  \n",
            "  inflating: original_dataset/frustrated/images 13.jpg  \n",
            "  inflating: original_dataset/frustrated/images 130.jpg  \n",
            "  inflating: original_dataset/frustrated/images 131.jpg  \n",
            "  inflating: original_dataset/frustrated/images 132.jpg  \n",
            "  inflating: original_dataset/frustrated/images 14.jpg  \n",
            "  inflating: original_dataset/frustrated/images 15.jpg  \n",
            "  inflating: original_dataset/frustrated/images 16.jpg  \n",
            "  inflating: original_dataset/frustrated/images 17.jpg  \n",
            "  inflating: original_dataset/frustrated/images 18.jpg  \n",
            "  inflating: original_dataset/frustrated/images 19.jpg  \n",
            "  inflating: original_dataset/frustrated/images 2.jpg  \n",
            "  inflating: original_dataset/frustrated/images 20.jpg  \n",
            "  inflating: original_dataset/frustrated/images 21.jpg  \n",
            "  inflating: original_dataset/frustrated/images 22.jpg  \n",
            "  inflating: original_dataset/frustrated/images 23.jpg  \n",
            "  inflating: original_dataset/frustrated/images 24.jpg  \n",
            "  inflating: original_dataset/frustrated/images 25.jpg  \n",
            "  inflating: original_dataset/frustrated/images 26.jpg  \n",
            "  inflating: original_dataset/frustrated/images 27.jpg  \n",
            "  inflating: original_dataset/frustrated/images 28.jpg  \n",
            "  inflating: original_dataset/frustrated/images 29.jpg  \n",
            "  inflating: original_dataset/frustrated/images 3.jpg  \n",
            "  inflating: original_dataset/frustrated/images 30.jpg  \n",
            "  inflating: original_dataset/frustrated/images 31.jpg  \n",
            "  inflating: original_dataset/frustrated/images 32.jpg  \n",
            "  inflating: original_dataset/frustrated/images 33.jpg  \n",
            "  inflating: original_dataset/frustrated/images 34.jpg  \n",
            "  inflating: original_dataset/frustrated/images 35.jpg  \n",
            "  inflating: original_dataset/frustrated/images 36.jpg  \n",
            "  inflating: original_dataset/frustrated/images 37.jpg  \n",
            "  inflating: original_dataset/frustrated/images 38.jpg  \n",
            "  inflating: original_dataset/frustrated/images 39.jpg  \n",
            "  inflating: original_dataset/frustrated/images 4.jpg  \n",
            "  inflating: original_dataset/frustrated/images 40.jpg  \n",
            "  inflating: original_dataset/frustrated/images 41.jpg  \n",
            "  inflating: original_dataset/frustrated/images 42.jpg  \n",
            "  inflating: original_dataset/frustrated/images 43.jpg  \n",
            "  inflating: original_dataset/frustrated/images 44.jpg  \n",
            "  inflating: original_dataset/frustrated/images 45.jpg  \n",
            "  inflating: original_dataset/frustrated/images 46.jpg  \n",
            "  inflating: original_dataset/frustrated/images 47.jpg  \n",
            "  inflating: original_dataset/frustrated/images 48.jpg  \n",
            "  inflating: original_dataset/frustrated/images 49.jpg  \n",
            "  inflating: original_dataset/frustrated/images 5.jpg  \n",
            "  inflating: original_dataset/frustrated/images 50.jpg  \n",
            "  inflating: original_dataset/frustrated/images 51.jpg  \n",
            "  inflating: original_dataset/frustrated/images 52.jpg  \n",
            "  inflating: original_dataset/frustrated/images 53.jpg  \n",
            "  inflating: original_dataset/frustrated/images 54.jpg  \n",
            "  inflating: original_dataset/frustrated/images 55.jpg  \n",
            "  inflating: original_dataset/frustrated/images 56.jpg  \n",
            "  inflating: original_dataset/frustrated/images 58.jpg  \n",
            "  inflating: original_dataset/frustrated/images 59.jpg  \n",
            "  inflating: original_dataset/frustrated/images 6.jpg  \n",
            "  inflating: original_dataset/frustrated/images 60.jpg  \n",
            "  inflating: original_dataset/frustrated/images 61.jpg  \n",
            "  inflating: original_dataset/frustrated/images 62.jpg  \n",
            "  inflating: original_dataset/frustrated/images 63.jpg  \n",
            "  inflating: original_dataset/frustrated/images 64.jpg  \n",
            "  inflating: original_dataset/frustrated/images 65.jpg  \n",
            "  inflating: original_dataset/frustrated/images 66.jpg  \n",
            "  inflating: original_dataset/frustrated/images 67.jpg  \n",
            "  inflating: original_dataset/frustrated/images 68.jpg  \n",
            "  inflating: original_dataset/frustrated/images 69.jpg  \n",
            "  inflating: original_dataset/frustrated/images 7.jpg  \n",
            "  inflating: original_dataset/frustrated/images 70.jpg  \n",
            "  inflating: original_dataset/frustrated/images 71.jpg  \n",
            "  inflating: original_dataset/frustrated/images 72.jpg  \n",
            "  inflating: original_dataset/frustrated/images 73.jpg  \n",
            "  inflating: original_dataset/frustrated/images 74.jpg  \n",
            "  inflating: original_dataset/frustrated/images 75.jpg  \n",
            "  inflating: original_dataset/frustrated/images 76.jpg  \n",
            "  inflating: original_dataset/frustrated/images 77.jpg  \n",
            "  inflating: original_dataset/frustrated/images 78.jpg  \n",
            "  inflating: original_dataset/frustrated/images 79.jpg  \n",
            "  inflating: original_dataset/frustrated/images 8.jpg  \n",
            "  inflating: original_dataset/frustrated/images 80.jpg  \n",
            "  inflating: original_dataset/frustrated/images 81.jpg  \n",
            "  inflating: original_dataset/frustrated/images 82.jpg  \n",
            "  inflating: original_dataset/frustrated/images 83.jpg  \n",
            "  inflating: original_dataset/frustrated/images 84.jpg  \n",
            "  inflating: original_dataset/frustrated/images 85.jpg  \n",
            "  inflating: original_dataset/frustrated/images 86.jpg  \n",
            "  inflating: original_dataset/frustrated/images 87.jpg  \n",
            "  inflating: original_dataset/frustrated/images 88.jpg  \n",
            "  inflating: original_dataset/frustrated/images 89.jpg  \n",
            "  inflating: original_dataset/frustrated/images 9.jpg  \n",
            "  inflating: original_dataset/frustrated/images 90.jpg  \n",
            "  inflating: original_dataset/frustrated/images 91.jpg  \n",
            "  inflating: original_dataset/frustrated/images 92.jpg  \n",
            "  inflating: original_dataset/frustrated/images 93.jpg  \n",
            "  inflating: original_dataset/frustrated/images 94.jpg  \n",
            "  inflating: original_dataset/frustrated/images 95.jpg  \n",
            "  inflating: original_dataset/frustrated/images 96.jpg  \n",
            "  inflating: original_dataset/frustrated/images 97.jpg  \n",
            "  inflating: original_dataset/frustrated/images 98.jpg  \n",
            "  inflating: original_dataset/frustrated/images 99.jpg  \n"
          ]
        }
      ]
    },
    {
      "cell_type": "markdown",
      "source": [
        "# Data Setup und preparation"
      ],
      "metadata": {
        "id": "IbU7OxiybmcA"
      }
    },
    {
      "cell_type": "code",
      "execution_count": null,
      "metadata": {
        "id": "bF2MYjfEboFZ"
      },
      "outputs": [],
      "source": [
        "import os\n",
        "import shutil\n",
        "import pathlib"
      ]
    },
    {
      "cell_type": "markdown",
      "source": [
        "##Data rename function"
      ],
      "metadata": {
        "id": "U_13OhaBbw38"
      }
    },
    {
      "cell_type": "code",
      "source": [
        "# Rename the images corresponding to the  Emotion Condition class.\n",
        "\n",
        "def rename_dataset(ds_name, ds_dir):\n",
        "  os.chdir(ds_dir)\n",
        "  for count ,fname in enumerate(os.listdir(ds_dir)):\n",
        "    new_fname = f\"{ds_name}{count}.jpg\"\n",
        "    os.rename(fname, new_fname)"
      ],
      "metadata": {
        "id": "UaOGzFiNb2s_"
      },
      "execution_count": null,
      "outputs": []
    },
    {
      "cell_type": "code",
      "source": [
        "bored_dir = r\"/content/drive/MyDrive/ProjSem_KI/original_dataset/bored\"\n",
        "rename_dataset(\"bored\", bored_dir)"
      ],
      "metadata": {
        "id": "tHmFcBo6cVBl"
      },
      "execution_count": null,
      "outputs": []
    },
    {
      "cell_type": "code",
      "source": [
        "engaged_dir= r\"/content/drive/MyDrive/ProjSem_KI/original_dataset/engaged\"\n",
        "rename_dataset(\"engaged\", engaged_dir)"
      ],
      "metadata": {
        "id": "rDdVcixKfEZr"
      },
      "execution_count": null,
      "outputs": []
    },
    {
      "cell_type": "code",
      "source": [
        "frustrated_dir= r\"/content/drive/MyDrive/ProjSem_KI/original_dataset/frustrated\"\n",
        "rename_dataset(\"frustrated\", frustrated_dir)"
      ],
      "metadata": {
        "id": "2DcYx6zBfVuK"
      },
      "execution_count": null,
      "outputs": []
    },
    {
      "cell_type": "markdown",
      "source": [
        "## Organizing the original dataset into subsets"
      ],
      "metadata": {
        "id": "SClCUIrjflul"
      }
    },
    {
      "cell_type": "code",
      "source": [
        "# Organizing the original dataset into subsets\n",
        "\n",
        "org_ds_dir = pathlib.Path(r\"/content/drive/MyDrive/ProjSem_KI/original_dataset\")\n",
        "model_ds_dir = pathlib.Path(r\"/content/drive/MyDrive/ProjSem_KI/\",\"emotion_dataset\")\n",
        "\n",
        "def make_subset(subset_name, start_index, end_index):\n",
        "    for category in (\"bored\", \"engaged\",\"frustrated\"):\n",
        "        dir = model_ds_dir / subset_name / category\n",
        "        ds_dir = pathlib.Path(dir)\n",
        "        if not ds_dir.exists():\n",
        "          print(f\"New subset {subset_name} is creating....\")\n",
        "          pathlib.Path(ds_dir).mkdir(parents=True)\n",
        "        else:\n",
        "          print(\"The dataset for model Fitting already exists.\")\n",
        "          # print(f\"The subset {subset_name} to be recreated...\")\n",
        "          # pathlib.Path(ds_dir).touch(exist_ok=True)\n",
        "          \n",
        "        fnames = [f\"{category}{i}.jpg\" for i in range(start_index, end_index)]\n",
        "        for fname in fnames:\n",
        "            shutil.copyfile(src=org_ds_dir / category / fname, dst=dir / fname)\n",
        "    print(f\"{subset_name} has been created.\")\n"
      ],
      "metadata": {
        "id": "KjEgJSUmftYv"
      },
      "execution_count": null,
      "outputs": []
    },
    {
      "cell_type": "code",
      "source": [
        "make_subset(\"train\", start_index=0, end_index=90)\n",
        "make_subset(\"validation\", start_index=90, end_index=110)\n",
        "make_subset(\"test\", start_index=110, end_index=130)"
      ],
      "metadata": {
        "colab": {
          "base_uri": "https://localhost:8080/"
        },
        "id": "GYGd4XQOiqlz",
        "outputId": "1f9e7a8d-6fae-4be5-81ed-63a699e5df3c"
      },
      "execution_count": null,
      "outputs": [
        {
          "output_type": "stream",
          "name": "stdout",
          "text": [
            "The dataset for model Fitting already exists.\n",
            "The dataset for model Fitting already exists.\n",
            "The dataset for model Fitting already exists.\n",
            "train has been created.\n",
            "The dataset for model Fitting already exists.\n",
            "The dataset for model Fitting already exists.\n",
            "The dataset for model Fitting already exists.\n",
            "validation has been created.\n",
            "The dataset for model Fitting already exists.\n",
            "The dataset for model Fitting already exists.\n",
            "The dataset for model Fitting already exists.\n",
            "test has been created.\n"
          ]
        }
      ]
    }
  ]
}
{
  "nbformat": 4,
  "nbformat_minor": 0,
  "metadata": {
    "accelerator": "GPU",
    "colab": {
      "name": "base_model.ipynb",
      "provenance": [],
      "collapsed_sections": [],
      "mount_file_id": "1A_-rWfmVksDv6Hv5CP2NAeGMVOmIzgRH",
      "authorship_tag": "ABX9TyNKw5Z5NSkrAkLg4L8Ud7LU",
      "include_colab_link": true
    },
    "kernelspec": {
      "display_name": "Python 3",
      "name": "python3"
    },
    "language_info": {
      "name": "python"
    }
  },
  "cells": [
    {
      "cell_type": "markdown",
      "metadata": {
        "id": "view-in-github",
        "colab_type": "text"
      },
      "source": [
        "<a href=\"https://colab.research.google.com/github/Mezekr/Focus-level-of-students-in-online-learning/blob/main/base_model.ipynb\" target=\"_parent\"><img src=\"https://colab.research.google.com/assets/colab-badge.svg\" alt=\"Open In Colab\"/></a>"
      ]
    },
    {
      "cell_type": "markdown",
      "source": [
        "# Mount Google Drive again if it is not mounted"
      ],
      "metadata": {
        "id": "mOb4K78EK5Jk"
      }
    },
    {
      "cell_type": "code",
      "source": [
        "from google.colab import drive\n",
        "drive.mount('/content/drive/')"
      ],
      "metadata": {
        "id": "tskc7I09K6jC"
      },
      "execution_count": null,
      "outputs": []
    },
    {
      "cell_type": "code",
      "metadata": {
        "id": "cNFyweVng7Qm"
      },
      "source": [
        "import pathlib\n",
        "from tensorflow import keras\n",
        "from tensorflow.keras import layers\n",
        "from tensorflow.keras.preprocessing import image_dataset_from_directory"
      ],
      "execution_count": null,
      "outputs": []
    },
    {
      "cell_type": "markdown",
      "metadata": {
        "id": "_7LF1nKqmyv-"
      },
      "source": [
        "# Building the Model from scratch (base model)"
      ]
    },
    {
      "cell_type": "code",
      "metadata": {
        "id": "IVQn2FPoyn14"
      },
      "source": [
        "# Instantiating a small convnet for emotion classification.\n",
        "\n",
        "inputs = keras.Input(shape=(180, 180, 3))\n",
        "x = layers.experimental.preprocessing.Rescaling(1./255)(inputs)\n",
        "x = layers.Conv2D(filters=32, kernel_size=3, activation=\"relu\")(x)\n",
        "x = layers.MaxPooling2D(pool_size=2)(x)\n",
        "x = layers.Conv2D(filters=64, kernel_size=3, activation=\"relu\")(x)\n",
        "x = layers.MaxPooling2D(pool_size=2)(x)\n",
        "x = layers.Conv2D(filters=128, kernel_size=3, activation=\"relu\")(x)\n",
        "x = layers.MaxPooling2D(pool_size=2)(x)\n",
        "x = layers.Conv2D(filters=256, kernel_size=3, activation=\"relu\")(x)\n",
        "x = layers.MaxPooling2D(pool_size=2)(x)\n",
        "x = layers.Conv2D(filters=256, kernel_size=3, activation=\"relu\")(x)\n",
        "x = layers.Flatten()(x)\n",
        "outputs = layers.Dense(3, activation=\"softmax\")(x)\n",
        "model = keras.Model(inputs=inputs, outputs=outputs)"
      ],
      "execution_count": null,
      "outputs": []
    },
    {
      "cell_type": "code",
      "metadata": {
        "colab": {
          "base_uri": "https://localhost:8080/"
        },
        "id": "ax7nx-pnypxZ",
        "outputId": "b65dfb92-6a21-45d8-843c-8585966f5cea"
      },
      "source": [
        "model.summary()"
      ],
      "execution_count": null,
      "outputs": [
        {
          "output_type": "stream",
          "name": "stdout",
          "text": [
            "Model: \"model\"\n",
            "_________________________________________________________________\n",
            " Layer (type)                Output Shape              Param #   \n",
            "=================================================================\n",
            " input_1 (InputLayer)        [(None, 180, 180, 3)]     0         \n",
            "                                                                 \n",
            " rescaling (Rescaling)       (None, 180, 180, 3)       0         \n",
            "                                                                 \n",
            " conv2d (Conv2D)             (None, 178, 178, 32)      896       \n",
            "                                                                 \n",
            " max_pooling2d (MaxPooling2D  (None, 89, 89, 32)       0         \n",
            " )                                                               \n",
            "                                                                 \n",
            " conv2d_1 (Conv2D)           (None, 87, 87, 64)        18496     \n",
            "                                                                 \n",
            " max_pooling2d_1 (MaxPooling  (None, 43, 43, 64)       0         \n",
            " 2D)                                                             \n",
            "                                                                 \n",
            " conv2d_2 (Conv2D)           (None, 41, 41, 128)       73856     \n",
            "                                                                 \n",
            " max_pooling2d_2 (MaxPooling  (None, 20, 20, 128)      0         \n",
            " 2D)                                                             \n",
            "                                                                 \n",
            " conv2d_3 (Conv2D)           (None, 18, 18, 256)       295168    \n",
            "                                                                 \n",
            " max_pooling2d_3 (MaxPooling  (None, 9, 9, 256)        0         \n",
            " 2D)                                                             \n",
            "                                                                 \n",
            " conv2d_4 (Conv2D)           (None, 7, 7, 256)         590080    \n",
            "                                                                 \n",
            " flatten (Flatten)           (None, 12544)             0         \n",
            "                                                                 \n",
            " dense (Dense)               (None, 3)                 37635     \n",
            "                                                                 \n",
            "=================================================================\n",
            "Total params: 1,016,131\n",
            "Trainable params: 1,016,131\n",
            "Non-trainable params: 0\n",
            "_________________________________________________________________\n"
          ]
        }
      ]
    },
    {
      "cell_type": "markdown",
      "metadata": {
        "id": "UCKLo1Nm41nW"
      },
      "source": [
        "# compilie und optimizer"
      ]
    },
    {
      "cell_type": "code",
      "metadata": {
        "id": "FgTcGNpi47eF"
      },
      "source": [
        "model.compile(loss=\"sparse_categorical_crossentropy\",\n",
        "              optimizer=\"sgd\",\n",
        "              metrics=[\"accuracy\"])"
      ],
      "execution_count": null,
      "outputs": []
    },
    {
      "cell_type": "markdown",
      "metadata": {
        "id": "Xpl9i8RQ5eHY"
      },
      "source": [
        "# Data preprocessing\n",
        "##Using image_dataset_from_directory to read images from directories"
      ]
    },
    {
      "cell_type": "code",
      "metadata": {
        "colab": {
          "base_uri": "https://localhost:8080/"
        },
        "id": "4fk3YoZw5loX",
        "outputId": "0bcaf128-8027-4b00-88bc-844787852492"
      },
      "source": [
        "# Using image_dataset_from_directory to read images from directories\n",
        "\n",
        "train_dir = r\"/content/drive/MyDrive/ProjSem_KI/emotion_dataset/train\"\n",
        "train_dataset = image_dataset_from_directory(\n",
        "    train_dir,\n",
        "    image_size =(180, 180),\n",
        "    batch_size = 8 )\n",
        "\n",
        "val_dir = r\"/content/drive/MyDrive/ProjSem_KI/emotion_dataset/validation\"\n",
        "validation_dataset = image_dataset_from_directory(\n",
        "\n",
        "    val_dir,\n",
        "    image_size=(180, 180),\n",
        "    batch_size= 8 )\n",
        "\n",
        "test_dir = r\"/content/drive/MyDrive/ProjSem_KI/emotion_dataset/test\"\n",
        "test_dataset = image_dataset_from_directory(\n",
        "    test_dir,\n",
        "    image_size =(180, 180),\n",
        "    batch_size = 8 )"
      ],
      "execution_count": null,
      "outputs": [
        {
          "output_type": "stream",
          "name": "stdout",
          "text": [
            "Found 270 files belonging to 3 classes.\n",
            "Found 60 files belonging to 3 classes.\n",
            "Found 60 files belonging to 3 classes.\n"
          ]
        }
      ]
    },
    {
      "cell_type": "markdown",
      "metadata": {
        "id": "yhpwZYPNCnZ9"
      },
      "source": [
        "##Displaying the shapes of the data and labels yielded by the Dataset"
      ]
    },
    {
      "cell_type": "code",
      "metadata": {
        "colab": {
          "base_uri": "https://localhost:8080/"
        },
        "id": "Qz_bqrZUCoVz",
        "outputId": "0149c539-3f65-4ab4-f8e9-de742d29683c"
      },
      "source": [
        "# Displaying the shapes of the data and labels yielded by the Dataset\n",
        "\n",
        "for data_batch, labels_batch in train_dataset:\n",
        "    print(\"data batch shape:\", data_batch.shape)\n",
        "    print(\"labels batch shape:\", labels_batch.shape)\n",
        "    break\n"
      ],
      "execution_count": null,
      "outputs": [
        {
          "output_type": "stream",
          "name": "stdout",
          "text": [
            "data batch shape: (8, 180, 180, 3)\n",
            "labels batch shape: (8,)\n"
          ]
        }
      ]
    },
    {
      "cell_type": "code",
      "metadata": {
        "colab": {
          "base_uri": "https://localhost:8080/"
        },
        "id": "ugSuJC8GDUVg",
        "outputId": "4198c2a5-3b65-4e7e-eb47-daf926eac726"
      },
      "source": [
        "# Displaying the shapes of the data and labels yielded by the Dataset\n",
        "\n",
        "for data_batch, labels_batch in validation_dataset:\n",
        "    print(\"data batch shape:\", data_batch.shape)\n",
        "    print(\"labels batch shape:\", labels_batch.shape)\n",
        "    break"
      ],
      "execution_count": null,
      "outputs": [
        {
          "output_type": "stream",
          "name": "stdout",
          "text": [
            "data batch shape: (8, 180, 180, 3)\n",
            "labels batch shape: (8,)\n"
          ]
        }
      ]
    },
    {
      "cell_type": "code",
      "metadata": {
        "colab": {
          "base_uri": "https://localhost:8080/"
        },
        "id": "c7FGKCwaDXLc",
        "outputId": "c997c9d3-044c-4464-d9a8-182309d4e547"
      },
      "source": [
        "# Displaying the shapes of the data and labels yielded by the Dataset\n",
        "\n",
        "for data_batch, labels_batch in test_dataset:\n",
        "    print(\"data batch shape:\", data_batch.shape)\n",
        "    print(\"labels batch shape:\", labels_batch.shape)\n",
        "    break"
      ],
      "execution_count": null,
      "outputs": [
        {
          "output_type": "stream",
          "name": "stdout",
          "text": [
            "data batch shape: (8, 180, 180, 3)\n",
            "labels batch shape: (8,)\n"
          ]
        }
      ]
    },
    {
      "cell_type": "markdown",
      "metadata": {
        "id": "43tDjTxgDiPC"
      },
      "source": [
        "#Fitting the model using a Dataset"
      ]
    },
    {
      "cell_type": "code",
      "metadata": {
        "colab": {
          "base_uri": "https://localhost:8080/"
        },
        "id": "_iGvPl2dDj32",
        "outputId": "29179d88-8a1d-4488-f55a-eee3247a9df7"
      },
      "source": [
        "# Fitting the model using a Dataset\n",
        "\n",
        "filepath = r\"/content/drive/MyDrive/ProjSem_KI/Models/base_model.keras\"\n",
        "\n",
        "callbacks = [\n",
        "    keras.callbacks.ModelCheckpoint(\n",
        "        filepath,\n",
        "        save_best_only=True,\n",
        "        monitor=\"val_loss\")\n",
        "]\n",
        "\n",
        "history = model.fit(\n",
        "    train_dataset,\n",
        "    epochs=30,\n",
        "    validation_data=validation_dataset,\n",
        "    callbacks=callbacks)"
      ],
      "execution_count": null,
      "outputs": [
        {
          "output_type": "stream",
          "name": "stdout",
          "text": [
            "Epoch 1/30\n",
            "34/34 [==============================] - 2s 52ms/step - loss: 0.9465 - accuracy: 0.5370 - val_loss: 1.0977 - val_accuracy: 0.3667\n",
            "Epoch 2/30\n",
            "34/34 [==============================] - 2s 43ms/step - loss: 0.9192 - accuracy: 0.5259 - val_loss: 1.1424 - val_accuracy: 0.4000\n",
            "Epoch 3/30\n",
            "34/34 [==============================] - 2s 41ms/step - loss: 0.8832 - accuracy: 0.5852 - val_loss: 1.1571 - val_accuracy: 0.4000\n",
            "Epoch 4/30\n",
            "34/34 [==============================] - 2s 42ms/step - loss: 0.8690 - accuracy: 0.6111 - val_loss: 1.1092 - val_accuracy: 0.3500\n",
            "Epoch 5/30\n",
            "34/34 [==============================] - 2s 43ms/step - loss: 0.8686 - accuracy: 0.6148 - val_loss: 1.1308 - val_accuracy: 0.4000\n",
            "Epoch 6/30\n",
            "34/34 [==============================] - 2s 42ms/step - loss: 0.7898 - accuracy: 0.6444 - val_loss: 1.3232 - val_accuracy: 0.3167\n",
            "Epoch 7/30\n",
            "34/34 [==============================] - 2s 43ms/step - loss: 0.7895 - accuracy: 0.6556 - val_loss: 1.2337 - val_accuracy: 0.3500\n",
            "Epoch 8/30\n",
            "34/34 [==============================] - 2s 42ms/step - loss: 0.7594 - accuracy: 0.7111 - val_loss: 1.1653 - val_accuracy: 0.4167\n",
            "Epoch 9/30\n",
            "34/34 [==============================] - 2s 43ms/step - loss: 0.7248 - accuracy: 0.6852 - val_loss: 1.3088 - val_accuracy: 0.3833\n",
            "Epoch 10/30\n",
            "34/34 [==============================] - 2s 41ms/step - loss: 0.6753 - accuracy: 0.7259 - val_loss: 1.1931 - val_accuracy: 0.4167\n",
            "Epoch 11/30\n",
            "34/34 [==============================] - 2s 43ms/step - loss: 0.6170 - accuracy: 0.7519 - val_loss: 1.1920 - val_accuracy: 0.4333\n",
            "Epoch 12/30\n",
            "34/34 [==============================] - 2s 42ms/step - loss: 0.5701 - accuracy: 0.7667 - val_loss: 1.4715 - val_accuracy: 0.4333\n",
            "Epoch 13/30\n",
            "34/34 [==============================] - 2s 42ms/step - loss: 0.4766 - accuracy: 0.7926 - val_loss: 1.3410 - val_accuracy: 0.4333\n",
            "Epoch 14/30\n",
            "34/34 [==============================] - 2s 43ms/step - loss: 0.4668 - accuracy: 0.8111 - val_loss: 1.8910 - val_accuracy: 0.3833\n",
            "Epoch 15/30\n",
            "34/34 [==============================] - 2s 42ms/step - loss: 0.3863 - accuracy: 0.8593 - val_loss: 1.9764 - val_accuracy: 0.3167\n",
            "Epoch 16/30\n",
            "34/34 [==============================] - 2s 43ms/step - loss: 0.3553 - accuracy: 0.8852 - val_loss: 1.6569 - val_accuracy: 0.3333\n",
            "Epoch 17/30\n",
            "34/34 [==============================] - 2s 41ms/step - loss: 0.2873 - accuracy: 0.9000 - val_loss: 2.1941 - val_accuracy: 0.3333\n",
            "Epoch 18/30\n",
            "34/34 [==============================] - 2s 43ms/step - loss: 0.1959 - accuracy: 0.9407 - val_loss: 1.9138 - val_accuracy: 0.4000\n",
            "Epoch 19/30\n",
            "34/34 [==============================] - 2s 41ms/step - loss: 0.1622 - accuracy: 0.9519 - val_loss: 3.3011 - val_accuracy: 0.3500\n",
            "Epoch 20/30\n",
            "34/34 [==============================] - 2s 43ms/step - loss: 0.1883 - accuracy: 0.9370 - val_loss: 2.6127 - val_accuracy: 0.3167\n",
            "Epoch 21/30\n",
            "34/34 [==============================] - 2s 42ms/step - loss: 0.0965 - accuracy: 0.9741 - val_loss: 2.9198 - val_accuracy: 0.3333\n",
            "Epoch 22/30\n",
            "34/34 [==============================] - 2s 43ms/step - loss: 0.0218 - accuracy: 1.0000 - val_loss: 3.2034 - val_accuracy: 0.3667\n",
            "Epoch 23/30\n",
            "34/34 [==============================] - 2s 43ms/step - loss: 0.0092 - accuracy: 1.0000 - val_loss: 3.3714 - val_accuracy: 0.3667\n",
            "Epoch 24/30\n",
            "34/34 [==============================] - 2s 44ms/step - loss: 0.0055 - accuracy: 1.0000 - val_loss: 3.5466 - val_accuracy: 0.3667\n",
            "Epoch 25/30\n",
            "34/34 [==============================] - 2s 44ms/step - loss: 0.0043 - accuracy: 1.0000 - val_loss: 3.6529 - val_accuracy: 0.3500\n",
            "Epoch 26/30\n",
            "34/34 [==============================] - 2s 42ms/step - loss: 0.0036 - accuracy: 1.0000 - val_loss: 3.7403 - val_accuracy: 0.3667\n",
            "Epoch 27/30\n",
            "34/34 [==============================] - 2s 45ms/step - loss: 0.0030 - accuracy: 1.0000 - val_loss: 3.8278 - val_accuracy: 0.3667\n",
            "Epoch 28/30\n",
            "34/34 [==============================] - 2s 43ms/step - loss: 0.0026 - accuracy: 1.0000 - val_loss: 3.8975 - val_accuracy: 0.3333\n",
            "Epoch 29/30\n",
            "34/34 [==============================] - 2s 41ms/step - loss: 0.0023 - accuracy: 1.0000 - val_loss: 3.9588 - val_accuracy: 0.3500\n",
            "Epoch 30/30\n",
            "34/34 [==============================] - 2s 43ms/step - loss: 0.0020 - accuracy: 1.0000 - val_loss: 4.0076 - val_accuracy: 0.3500\n"
          ]
        }
      ]
    },
    {
      "cell_type": "markdown",
      "metadata": {
        "id": "k0-UqUnaQjST"
      },
      "source": [
        "# Displaying curves of loss and accuracy during training"
      ]
    },
    {
      "cell_type": "code",
      "metadata": {
        "colab": {
          "base_uri": "https://localhost:8080/",
          "height": 545
        },
        "id": "DAQsKMaaQln-",
        "outputId": "f0a103b3-f384-4172-b519-43cc4805974d"
      },
      "source": [
        "# Displaying curves of loss and accuracy during training\n",
        "\n",
        "import matplotlib.pyplot as plt\n",
        "\n",
        "accuracy = history.history[\"accuracy\"]\n",
        "val_accuracy = history.history[\"val_accuracy\"]\n",
        "loss = history.history[\"loss\"]\n",
        "val_loss = history.history[\"val_loss\"]\n",
        "epochs = range(1, len(accuracy) + 1)\n",
        "plt.plot(epochs, accuracy, \"bo\", label=\"Training accuracy\")\n",
        "plt.plot(epochs, val_accuracy, \"b\", label=\"Validation accuracy\")\n",
        "plt.title(\"Training and validation accuracy\")\n",
        "plt.legend()\n",
        "plt.figure()\n",
        "plt.plot(epochs, loss, \"bo\", label=\"Training loss\")\n",
        "plt.plot(epochs, val_loss, \"b\", label=\"Validation loss\")\n",
        "plt.title(\"Training and validation loss\")\n",
        "plt.legend()\n",
        "plt.show()"
      ],
      "execution_count": null,
      "outputs": [
        {
          "output_type": "display_data",
          "data": {
            "image/png": "[encoded data removed]",
            "text/plain": [
              "<Figure size 432x288 with 1 Axes>"
            ]
          },
          "metadata": {
            "needs_background": "light"
          }
        },
        {
          "output_type": "display_data",
          "data": {
            "image/png": "[encoded data removed]",
            "text/plain": [
              "<Figure size 432x288 with 1 Axes>"
            ]
          },
          "metadata": {
            "needs_background": "light"
          }
        }
      ]
    },
    {
      "cell_type": "markdown",
      "metadata": {
        "id": "YpRLtQQPt_p0"
      },
      "source": [
        ""
      ]
    },
    {
      "cell_type": "markdown",
      "metadata": {
        "id": "ZhMlTlr6WIn0"
      },
      "source": [
        "## Evaluating the model on the test set"
      ]
    },
    {
      "cell_type": "code",
      "metadata": {
        "colab": {
          "base_uri": "https://localhost:8080/"
        },
        "id": "rBUG1lkwWOfb",
        "outputId": "10ce6a39-d298-44ec-8d11-6172dc4a8649"
      },
      "source": [
        "# Evaluating the model on the test set\n",
        "\n",
        "saved_model = r\"/content/drive/MyDrive/ProjSem_KI/Models/base_model.keras\"\n",
        "\n",
        "test_model = keras.models.load_model(saved_model)\n",
        "test_loss, test_acc = test_model.evaluate(test_dataset)\n",
        "print(f\"Test accuracy: {test_acc:.3f}\")\n"
      ],
      "execution_count": null,
      "outputs": [
        {
          "output_type": "stream",
          "name": "stdout",
          "text": [
            "8/8 [==============================] - 0s 14ms/step - loss: 0.9884 - accuracy: 0.5000\n",
            "Test accuracy: 0.500\n"
          ]
        }
      ]
    }
  ]
}